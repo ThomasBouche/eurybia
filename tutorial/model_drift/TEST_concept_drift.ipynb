{
  "cells": [
    {
      "cell_type": "markdown",
      "metadata": {},
      "source": [
        "# Detect High Model Drift \n",
        "<b>With this tutorial you:</b><br />\n",
        "Understand how to use Eurybia to detect datadrift\n",
        "\n",
        "Contents:\n",
        "- Detect data drift  \n",
        "- Compile Drift over years\n",
        "\n",
        "This public dataset comes from :\n",
        "\n",
        "https://www.kaggle.com/sobhanmoosavi/us-accidents/version/10\n",
        "\n",
        "---\n",
        "Acknowledgements\n",
        "- Moosavi, Sobhan, Mohammad Hossein Samavatian, Srinivasan Parthasarathy, and Rajiv Ramnath. \u201cA Countrywide Traffic Accident Dataset.\u201d, 2019.\n",
        "- Moosavi, Sobhan, Mohammad Hossein Samavatian, Srinivasan Parthasarathy, Radu Teodorescu, and Rajiv Ramnath. \"Accident Risk Prediction based on Heterogeneous Sparse Data: New Dataset and Insights.\" In proceedings of the 27th ACM SIGSPATIAL International Conference on Advances in Geographic Information Systems, ACM, 2019.\n",
        "---\n",
        "\n",
        "In this tutorial, the data are not loaded raw, a data preparation to facilitate the use of the tutorial has been done. You can find it here : \n",
        "https://github.com/MAIF/eurybia/blob/master/eurybia/data/dataprep_US_car_accidents.ipynb"
      ]
    },
    {
      "cell_type": "markdown",
      "metadata": {},
      "source": [
        "**Requirements notice** : the following tutorial may use third party modules not included in Eurybia.  \n",
        "You can find them all in one file [on our Github repository](https://github.com/MAIF/eurybia/blob/master/requirements.dev.txt) or you can manually install those you are missing, if any."
      ]
    },
    {
      "cell_type": "code",
      "execution_count": 2,
      "metadata": {},
      "outputs": [
        {
          "name": "stderr",
          "output_type": "stream",
          "text": [
            "Using `tqdm.autonotebook.tqdm` in notebook mode. Use `tqdm.tqdm` instead to force console mode (e.g. in jupyter console)\n"
          ]
        }
      ],
      "source": [
        "import pandas as pd\n",
        "from category_encoders import OrdinalEncoder\n",
        "import catboost\n",
        "from eurybia import SmartDrift\n",
        "from sklearn.model_selection import train_test_split\n",
        "from sklearn import metrics\n",
        "import numpy as np"
      ]
    },
    {
      "cell_type": "markdown",
      "metadata": {},
      "source": [
        "## Import Dataset and split in training and production dataset"
      ]
    },
    {
      "cell_type": "code",
      "execution_count": 3,
      "metadata": {},
      "outputs": [],
      "source": [
        "from eurybia.data.data_loader import data_loading"
      ]
    },
    {
      "cell_type": "code",
      "execution_count": 4,
      "metadata": {},
      "outputs": [],
      "source": [
        "#df_car_accident = data_loading(\"us_car_accident\")\n",
        "df_car_accident = pd.read_csv(\"../../eurybia/data/US_Accidents_extract.csv\", engine=\"python\")"
      ]
    },
    {
      "cell_type": "code",
      "execution_count": 5,
      "metadata": {},
      "outputs": [
        {
          "data": {
            "text/html": [
              "<div>\n",
              "<style scoped>\n",
              "    .dataframe tbody tr th:only-of-type {\n",
              "        vertical-align: middle;\n",
              "    }\n",
              "\n",
              "    .dataframe tbody tr th {\n",
              "        vertical-align: top;\n",
              "    }\n",
              "\n",
              "    .dataframe thead th {\n",
              "        text-align: right;\n",
              "    }\n",
              "</style>\n",
              "<table border=\"1\" class=\"dataframe\">\n",
              "  <thead>\n",
              "    <tr style=\"text-align: right;\">\n",
              "      <th></th>\n",
              "      <th>Start_Lat</th>\n",
              "      <th>Start_Lng</th>\n",
              "      <th>Distance(mi)</th>\n",
              "      <th>Temperature(F)</th>\n",
              "      <th>Humidity(%)</th>\n",
              "      <th>Visibility(mi)</th>\n",
              "      <th>day_of_week_acc</th>\n",
              "      <th>Nautical_Twilight</th>\n",
              "      <th>season_acc</th>\n",
              "      <th>target</th>\n",
              "      <th>target_multi</th>\n",
              "      <th>year_acc</th>\n",
              "      <th>Description</th>\n",
              "    </tr>\n",
              "  </thead>\n",
              "  <tbody>\n",
              "    <tr>\n",
              "      <th>0</th>\n",
              "      <td>26.5</td>\n",
              "      <td>-81.8</td>\n",
              "      <td>0.0</td>\n",
              "      <td>77.0</td>\n",
              "      <td>50.0</td>\n",
              "      <td>10.0</td>\n",
              "      <td>1</td>\n",
              "      <td>Day</td>\n",
              "      <td>spring</td>\n",
              "      <td>0</td>\n",
              "      <td>2</td>\n",
              "      <td>2017</td>\n",
              "      <td>Accident on Winged Foot Dr at Lee Rd.</td>\n",
              "    </tr>\n",
              "    <tr>\n",
              "      <th>1</th>\n",
              "      <td>29.5</td>\n",
              "      <td>-98.5</td>\n",
              "      <td>0.0</td>\n",
              "      <td>50.0</td>\n",
              "      <td>83.0</td>\n",
              "      <td>10.0</td>\n",
              "      <td>4</td>\n",
              "      <td>Day</td>\n",
              "      <td>winter</td>\n",
              "      <td>0</td>\n",
              "      <td>2</td>\n",
              "      <td>2017</td>\n",
              "      <td>Ramp to I-410 - Accident.</td>\n",
              "    </tr>\n",
              "    <tr>\n",
              "      <th>2</th>\n",
              "      <td>33.9</td>\n",
              "      <td>-118.3</td>\n",
              "      <td>0.0</td>\n",
              "      <td>49.0</td>\n",
              "      <td>36.0</td>\n",
              "      <td>10.0</td>\n",
              "      <td>2</td>\n",
              "      <td>Day</td>\n",
              "      <td>winter</td>\n",
              "      <td>1</td>\n",
              "      <td>3</td>\n",
              "      <td>2018</td>\n",
              "      <td>Right hand shoulder blocked due to accident on...</td>\n",
              "    </tr>\n",
              "    <tr>\n",
              "      <th>3</th>\n",
              "      <td>42.5</td>\n",
              "      <td>-83.2</td>\n",
              "      <td>1.0</td>\n",
              "      <td>28.0</td>\n",
              "      <td>93.0</td>\n",
              "      <td>7.0</td>\n",
              "      <td>3</td>\n",
              "      <td>Day</td>\n",
              "      <td>winter</td>\n",
              "      <td>0</td>\n",
              "      <td>2</td>\n",
              "      <td>2023</td>\n",
              "      <td>Slow traffic on John C Lodge Fwy S - Morris Ad...</td>\n",
              "    </tr>\n",
              "    <tr>\n",
              "      <th>4</th>\n",
              "      <td>42.4</td>\n",
              "      <td>-83.2</td>\n",
              "      <td>0.0</td>\n",
              "      <td>40.0</td>\n",
              "      <td>82.0</td>\n",
              "      <td>10.0</td>\n",
              "      <td>3</td>\n",
              "      <td>Day</td>\n",
              "      <td>autumn</td>\n",
              "      <td>0</td>\n",
              "      <td>2</td>\n",
              "      <td>2016</td>\n",
              "      <td>Accident on 7 Mile Rd at Lindsay St.</td>\n",
              "    </tr>\n",
              "  </tbody>\n",
              "</table>\n",
              "</div>"
            ],
            "text/plain": [
              "   Start_Lat  Start_Lng  Distance(mi)  Temperature(F)  Humidity(%)  \\\n",
              "0       26.5      -81.8           0.0            77.0         50.0   \n",
              "1       29.5      -98.5           0.0            50.0         83.0   \n",
              "2       33.9     -118.3           0.0            49.0         36.0   \n",
              "3       42.5      -83.2           1.0            28.0         93.0   \n",
              "4       42.4      -83.2           0.0            40.0         82.0   \n",
              "\n",
              "   Visibility(mi)  day_of_week_acc Nautical_Twilight season_acc  target  \\\n",
              "0            10.0                1               Day     spring       0   \n",
              "1            10.0                4               Day     winter       0   \n",
              "2            10.0                2               Day     winter       1   \n",
              "3             7.0                3               Day     winter       0   \n",
              "4            10.0                3               Day     autumn       0   \n",
              "\n",
              "   target_multi  year_acc                                        Description  \n",
              "0             2      2017              Accident on Winged Foot Dr at Lee Rd.  \n",
              "1             2      2017                          Ramp to I-410 - Accident.  \n",
              "2             3      2018  Right hand shoulder blocked due to accident on...  \n",
              "3             2      2023  Slow traffic on John C Lodge Fwy S - Morris Ad...  \n",
              "4             2      2016               Accident on 7 Mile Rd at Lindsay St.  "
            ]
          },
          "execution_count": 5,
          "metadata": {},
          "output_type": "execute_result"
        }
      ],
      "source": [
        "df_car_accident.head()"
      ]
    },
    {
      "cell_type": "code",
      "execution_count": 7,
      "metadata": {},
      "outputs": [
        {
          "data": {
            "text/plain": [
              "(50000, 13)"
            ]
          },
          "execution_count": 7,
          "metadata": {},
          "output_type": "execute_result"
        }
      ],
      "source": [
        "df_car_accident.shape"
      ]
    },
    {
      "cell_type": "code",
      "execution_count": 8,
      "metadata": {},
      "outputs": [],
      "source": [
        "# Let us consider that the column \"year_acc\" corresponds to the reference date. \n",
        "#In 2016, a model was trained using data. And in next years, we want to detect data drift on new data in production to predict\n",
        "df_accident_baseline = df_car_accident.loc[df_car_accident['year_acc'] == 2016]\n",
        "df_accident_2017 = df_car_accident.loc[df_car_accident['year_acc'] == 2017]\n",
        "df_accident_2018 = df_car_accident.loc[df_car_accident['year_acc'] == 2018]\n",
        "df_accident_2019 = df_car_accident.loc[df_car_accident['year_acc'] == 2019]\n",
        "df_accident_2020 = df_car_accident.loc[df_car_accident['year_acc'] == 2020]\n",
        "df_accident_2021 = df_car_accident.loc[df_car_accident['year_acc'] == 2021]\n",
        "df_accident_2022 = df_car_accident.loc[df_car_accident[\"year_acc\"] == 2022]"
      ]
    },
    {
      "cell_type": "code",
      "execution_count": 9,
      "metadata": {},
      "outputs": [
        {
          "data": {
            "text/html": [
              "<div>\n",
              "<style scoped>\n",
              "    .dataframe tbody tr th:only-of-type {\n",
              "        vertical-align: middle;\n",
              "    }\n",
              "\n",
              "    .dataframe tbody tr th {\n",
              "        vertical-align: top;\n",
              "    }\n",
              "\n",
              "    .dataframe thead th {\n",
              "        text-align: right;\n",
              "    }\n",
              "</style>\n",
              "<table border=\"1\" class=\"dataframe\">\n",
              "  <thead>\n",
              "    <tr style=\"text-align: right;\">\n",
              "      <th>target</th>\n",
              "      <th>0</th>\n",
              "      <th>1</th>\n",
              "    </tr>\n",
              "    <tr>\n",
              "      <th>year_acc</th>\n",
              "      <th></th>\n",
              "      <th></th>\n",
              "    </tr>\n",
              "  </thead>\n",
              "  <tbody>\n",
              "    <tr>\n",
              "      <th>2016</th>\n",
              "      <td>66.512000</td>\n",
              "      <td>33.488000</td>\n",
              "    </tr>\n",
              "    <tr>\n",
              "      <th>2017</th>\n",
              "      <td>64.549672</td>\n",
              "      <td>35.450328</td>\n",
              "    </tr>\n",
              "    <tr>\n",
              "      <th>2018</th>\n",
              "      <td>63.914226</td>\n",
              "      <td>36.085774</td>\n",
              "    </tr>\n",
              "    <tr>\n",
              "      <th>2019</th>\n",
              "      <td>71.787486</td>\n",
              "      <td>28.212514</td>\n",
              "    </tr>\n",
              "    <tr>\n",
              "      <th>2020</th>\n",
              "      <td>81.856000</td>\n",
              "      <td>18.144000</td>\n",
              "    </tr>\n",
              "    <tr>\n",
              "      <th>2021</th>\n",
              "      <td>88.800000</td>\n",
              "      <td>11.200000</td>\n",
              "    </tr>\n",
              "    <tr>\n",
              "      <th>2022</th>\n",
              "      <td>92.657175</td>\n",
              "      <td>7.342825</td>\n",
              "    </tr>\n",
              "    <tr>\n",
              "      <th>2023</th>\n",
              "      <td>97.136000</td>\n",
              "      <td>2.864000</td>\n",
              "    </tr>\n",
              "  </tbody>\n",
              "</table>\n",
              "</div>"
            ],
            "text/plain": [
              "target            0          1\n",
              "year_acc                      \n",
              "2016      66.512000  33.488000\n",
              "2017      64.549672  35.450328\n",
              "2018      63.914226  36.085774\n",
              "2019      71.787486  28.212514\n",
              "2020      81.856000  18.144000\n",
              "2021      88.800000  11.200000\n",
              "2022      92.657175   7.342825\n",
              "2023      97.136000   2.864000"
            ]
          },
          "execution_count": 9,
          "metadata": {},
          "output_type": "execute_result"
        }
      ],
      "source": [
        "#We will train a classification model to predict the severity of an accident. 0 for a less severe accident and 1 for a severe accident.\n",
        "#Let's check percentage in class 0 and 1\n",
        "pd.crosstab(df_car_accident.year_acc, df_car_accident.target, normalize = 'index')*100"
      ]
    },
    {
      "cell_type": "code",
      "execution_count": 10,
      "metadata": {},
      "outputs": [],
      "source": [
        "y_df_learning=df_accident_baseline['target'].to_frame()\n",
        "X_df_learning=df_accident_baseline[df_accident_baseline.columns.difference([\"target\", \"target_multi\", \"year_acc\", \"Description\"])]\n",
        "\n",
        "y_df_2017=df_accident_2017['target'].to_frame()\n",
        "X_df_2017=df_accident_2017[df_accident_2017.columns.difference([\"target\", \"target_multi\", \"year_acc\", \"Description\"])]\n",
        "\n",
        "y_df_2018=df_accident_2018['target'].to_frame()\n",
        "X_df_2018=df_accident_2018[df_accident_2018.columns.difference([\"target\", \"target_multi\", \"year_acc\", \"Description\"])]\n",
        "\n",
        "y_df_2019=df_accident_2019['target'].to_frame()\n",
        "X_df_2019=df_accident_2019[df_accident_2019.columns.difference([\"target\", \"target_multi\", \"year_acc\", \"Description\"])]\n",
        "\n",
        "y_df_2020=df_accident_2020['target'].to_frame()\n",
        "X_df_2020=df_accident_2020[df_accident_2020.columns.difference([\"target\", \"target_multi\", \"year_acc\", \"Description\"])]\n",
        "\n",
        "y_df_2021=df_accident_2021['target'].to_frame()\n",
        "X_df_2021=df_accident_2021[df_accident_2021.columns.difference([\"target\", \"target_multi\", \"year_acc\", \"Description\"])]\n",
        "\n",
        "y_df_2022=df_accident_2022[\"target\"].to_frame()\n",
        "X_df_2022=df_accident_2022[df_accident_2022.columns.difference([\"target\", \"target_multi\", \"year_acc\", \"Description\"])]"
      ]
    },
    {
      "cell_type": "markdown",
      "metadata": {},
      "source": [
        "## Building Supervized Model"
      ]
    },
    {
      "cell_type": "code",
      "execution_count": 11,
      "metadata": {},
      "outputs": [],
      "source": [
        "features = ['Start_Lat', 'Start_Lng', 'Distance(mi)', 'Temperature(F)',\n",
        "       'Humidity(%)', 'Visibility(mi)', 'day_of_week_acc', 'Nautical_Twilight',\n",
        "       'season_acc']"
      ]
    },
    {
      "cell_type": "code",
      "execution_count": 12,
      "metadata": {},
      "outputs": [],
      "source": [
        "features_to_encode = [col for col in X_df_learning[features].columns if X_df_learning[col].dtype not in ('float64','int64')]\n",
        "\n",
        "encoder = OrdinalEncoder(cols=features_to_encode)\n",
        "encoder = encoder.fit(X_df_learning[features])\n",
        "\n",
        "X_df_learning_encoded=encoder.transform(X_df_learning)"
      ]
    },
    {
      "cell_type": "code",
      "execution_count": 13,
      "metadata": {},
      "outputs": [],
      "source": [
        "Xtrain, Xtest, ytrain, ytest = train_test_split(X_df_learning_encoded, y_df_learning, train_size=0.75, random_state=1)"
      ]
    },
    {
      "cell_type": "code",
      "execution_count": 14,
      "metadata": {},
      "outputs": [],
      "source": [
        "train_pool_cat = catboost.Pool(data=Xtrain, label= ytrain, cat_features = features_to_encode)\n",
        "test_pool_cat = catboost.Pool(data=Xtest, label= ytest, cat_features = features_to_encode)"
      ]
    },
    {
      "cell_type": "code",
      "execution_count": 15,
      "metadata": {},
      "outputs": [
        {
          "data": {
            "application/vnd.jupyter.widget-view+json": {
              "model_id": "9eb02bb5a02a404aa5baca9ddc03e560",
              "version_major": 2,
              "version_minor": 0
            },
            "text/plain": [
              "MetricVisualizer(layout=Layout(align_self='stretch', height='500px'))"
            ]
          },
          "metadata": {},
          "output_type": "display_data"
        }
      ],
      "source": [
        "model = catboost.CatBoostClassifier(loss_function= \"Logloss\", eval_metric=\"Logloss\",\n",
        "                                    learning_rate=0.143852,\n",
        "                                    iterations=300,\n",
        "                                    l2_leaf_reg=15,\n",
        "                                    max_depth = 4,\n",
        "                                    use_best_model=True,\n",
        "                                    custom_loss=['Accuracy', 'AUC', 'Logloss'])\n",
        "\n",
        "model = model.fit(train_pool_cat, plot=True,eval_set=test_pool_cat, verbose=False)"
      ]
    },
    {
      "cell_type": "code",
      "execution_count": 16,
      "metadata": {},
      "outputs": [
        {
          "name": "stdout",
          "output_type": "stream",
          "text": [
            "0.7039381961780464\n"
          ]
        }
      ],
      "source": [
        "proba = model.predict_proba(Xtest)\n",
        "print(metrics.roc_auc_score(ytest,proba[:,1]))"
      ]
    },
    {
      "cell_type": "code",
      "execution_count": 17,
      "metadata": {},
      "outputs": [
        {
          "data": {
            "application/vnd.jupyter.widget-view+json": {
              "model_id": "afbed9b435b34e47babdee0a15ab5e7c",
              "version_major": 2,
              "version_minor": 0
            },
            "text/plain": [
              "MetricVisualizer(layout=Layout(align_self='stretch', height='500px'))"
            ]
          },
          "metadata": {},
          "output_type": "display_data"
        },
        {
          "name": "stdout",
          "output_type": "stream",
          "text": [
            "0.7272848536244942\n"
          ]
        }
      ],
      "source": [
        "Xtrain, Xtest, ytrain, ytest = train_test_split(X_df_2017, y_df_2017, train_size=0.75, random_state=1)\n",
        "train_pool_cat = catboost.Pool(data=Xtrain, label= ytrain, cat_features = features_to_encode)\n",
        "test_pool_cat = catboost.Pool(data=Xtest, label= ytest, cat_features = features_to_encode)\n",
        "model_2017 = catboost.CatBoostClassifier(loss_function= \"Logloss\", eval_metric=\"Logloss\",\n",
        "                                    learning_rate=0.143852,\n",
        "                                    iterations=300,\n",
        "                                    l2_leaf_reg=15,\n",
        "                                    max_depth = 4,\n",
        "                                    use_best_model=True,\n",
        "                                    custom_loss=['Accuracy', 'AUC', 'Logloss'])\n",
        "\n",
        "model_2017 = model_2017.fit(train_pool_cat, plot=True,eval_set=test_pool_cat, verbose=False)\n",
        "proba = model_2017.predict_proba(Xtest)\n",
        "print(metrics.roc_auc_score(ytest,proba[:,1]))"
      ]
    },
    {
      "cell_type": "code",
      "execution_count": 18,
      "metadata": {},
      "outputs": [
        {
          "data": {
            "application/vnd.jupyter.widget-view+json": {
              "model_id": "6168a2efce2a4f20bef29de7f70a3527",
              "version_major": 2,
              "version_minor": 0
            },
            "text/plain": [
              "MetricVisualizer(layout=Layout(align_self='stretch', height='500px'))"
            ]
          },
          "metadata": {},
          "output_type": "display_data"
        },
        {
          "name": "stdout",
          "output_type": "stream",
          "text": [
            "0.7039528919958548\n"
          ]
        }
      ],
      "source": [
        "Xtrain, Xtest, ytrain, ytest = train_test_split(X_df_2018, y_df_2018, train_size=0.75, random_state=1)\n",
        "train_pool_cat = catboost.Pool(data=Xtrain, label= ytrain, cat_features = features_to_encode)\n",
        "test_pool_cat = catboost.Pool(data=Xtest, label= ytest, cat_features = features_to_encode)\n",
        "model_2018 = catboost.CatBoostClassifier(loss_function= \"Logloss\", eval_metric=\"Logloss\",\n",
        "                                    learning_rate=0.143852,\n",
        "                                    iterations=300,\n",
        "                                    l2_leaf_reg=15,\n",
        "                                    max_depth = 4,\n",
        "                                    use_best_model=True,\n",
        "                                    custom_loss=['Accuracy', 'AUC', 'Logloss'])\n",
        "\n",
        "model_2018 = model_2018.fit(train_pool_cat, plot=True,eval_set=test_pool_cat, verbose=False)\n",
        "proba = model_2018.predict_proba(Xtest)\n",
        "print(metrics.roc_auc_score(ytest,proba[:,1]))"
      ]
    },
    {
      "cell_type": "code",
      "execution_count": 19,
      "metadata": {},
      "outputs": [
        {
          "data": {
            "application/vnd.jupyter.widget-view+json": {
              "model_id": "3c46a7a77235405d8af189748eeb754e",
              "version_major": 2,
              "version_minor": 0
            },
            "text/plain": [
              "MetricVisualizer(layout=Layout(align_self='stretch', height='500px'))"
            ]
          },
          "metadata": {},
          "output_type": "display_data"
        },
        {
          "name": "stdout",
          "output_type": "stream",
          "text": [
            "0.7246346082588826\n"
          ]
        }
      ],
      "source": [
        "Xtrain, Xtest, ytrain, ytest = train_test_split(X_df_2019, y_df_2019, train_size=0.75, random_state=1)\n",
        "train_pool_cat = catboost.Pool(data=Xtrain, label= ytrain, cat_features = features_to_encode)\n",
        "test_pool_cat = catboost.Pool(data=Xtest, label= ytest, cat_features = features_to_encode)\n",
        "model_2019 = catboost.CatBoostClassifier(loss_function= \"Logloss\", eval_metric=\"Logloss\",\n",
        "                                    learning_rate=0.143852,\n",
        "                                    iterations=300,\n",
        "                                    l2_leaf_reg=15,\n",
        "                                    max_depth = 4,\n",
        "                                    use_best_model=True,\n",
        "                                    custom_loss=['Accuracy', 'AUC', 'Logloss'])\n",
        "\n",
        "model_2019 = model_2019.fit(train_pool_cat, plot=True,eval_set=test_pool_cat, verbose=False)\n",
        "proba = model_2019.predict_proba(Xtest)\n",
        "print(metrics.roc_auc_score(ytest,proba[:,1]))"
      ]
    },
    {
      "cell_type": "code",
      "execution_count": 20,
      "metadata": {},
      "outputs": [
        {
          "data": {
            "application/vnd.jupyter.widget-view+json": {
              "model_id": "c19c595094a44f1f9207874c84b481f0",
              "version_major": 2,
              "version_minor": 0
            },
            "text/plain": [
              "MetricVisualizer(layout=Layout(align_self='stretch', height='500px'))"
            ]
          },
          "metadata": {},
          "output_type": "display_data"
        },
        {
          "name": "stdout",
          "output_type": "stream",
          "text": [
            "0.7728054961205126\n"
          ]
        }
      ],
      "source": [
        "Xtrain, Xtest, ytrain, ytest = train_test_split(X_df_2020, y_df_2020, train_size=0.75, random_state=1)\n",
        "train_pool_cat = catboost.Pool(data=Xtrain, label= ytrain, cat_features = features_to_encode)\n",
        "test_pool_cat = catboost.Pool(data=Xtest, label= ytest, cat_features = features_to_encode)\n",
        "model_2020 = catboost.CatBoostClassifier(loss_function= \"Logloss\", eval_metric=\"Logloss\",\n",
        "                                    learning_rate=0.143852,\n",
        "                                    iterations=300,\n",
        "                                    l2_leaf_reg=15,\n",
        "                                    max_depth = 4,\n",
        "                                    use_best_model=True,\n",
        "                                    custom_loss=['Accuracy', 'AUC', 'Logloss'])\n",
        "\n",
        "model_2020 = model_2020.fit(train_pool_cat, plot=True,eval_set=test_pool_cat, verbose=False)\n",
        "proba = model_2020.predict_proba(Xtest)\n",
        "print(metrics.roc_auc_score(ytest,proba[:,1]))"
      ]
    },
    {
      "cell_type": "code",
      "execution_count": 21,
      "metadata": {},
      "outputs": [
        {
          "data": {
            "application/vnd.jupyter.widget-view+json": {
              "model_id": "e43f16191764458d8b9dd03d7eb62c9a",
              "version_major": 2,
              "version_minor": 0
            },
            "text/plain": [
              "MetricVisualizer(layout=Layout(align_self='stretch', height='500px'))"
            ]
          },
          "metadata": {},
          "output_type": "display_data"
        },
        {
          "name": "stdout",
          "output_type": "stream",
          "text": [
            "0.7536908907624633\n"
          ]
        }
      ],
      "source": [
        "Xtrain, Xtest, ytrain, ytest = train_test_split(X_df_2021, y_df_2021, train_size=0.75, random_state=1)\n",
        "train_pool_cat = catboost.Pool(data=Xtrain, label= ytrain, cat_features = features_to_encode)\n",
        "test_pool_cat = catboost.Pool(data=Xtest, label= ytest, cat_features = features_to_encode)\n",
        "model_2021 = catboost.CatBoostClassifier(loss_function= \"Logloss\", eval_metric=\"Logloss\",\n",
        "                                    learning_rate=0.143852,\n",
        "                                    iterations=300,\n",
        "                                    l2_leaf_reg=15,\n",
        "                                    max_depth = 4,\n",
        "                                    use_best_model=True,\n",
        "                                    custom_loss=['Accuracy', 'AUC', 'Logloss'])\n",
        "\n",
        "model_2021 = model_2021.fit(train_pool_cat, plot=True,eval_set=test_pool_cat, verbose=False)\n",
        "proba = model_2021.predict_proba(Xtest)\n",
        "print(metrics.roc_auc_score(ytest,proba[:,1]))"
      ]
    },
    {
      "cell_type": "code",
      "execution_count": 22,
      "metadata": {},
      "outputs": [
        {
          "data": {
            "application/vnd.jupyter.widget-view+json": {
              "model_id": "bf2e1161e4d84143893b3a900758fbe1",
              "version_major": 2,
              "version_minor": 0
            },
            "text/plain": [
              "MetricVisualizer(layout=Layout(align_self='stretch', height='500px'))"
            ]
          },
          "metadata": {},
          "output_type": "display_data"
        },
        {
          "name": "stdout",
          "output_type": "stream",
          "text": [
            "0.7688205736224029\n"
          ]
        }
      ],
      "source": [
        "Xtrain, Xtest, ytrain, ytest = train_test_split(X_df_2022, y_df_2022, train_size=0.75, random_state=1)\n",
        "train_pool_cat = catboost.Pool(data=Xtrain, label= ytrain, cat_features = features_to_encode)\n",
        "test_pool_cat = catboost.Pool(data=Xtest, label= ytest, cat_features = features_to_encode)\n",
        "model_2022 = catboost.CatBoostClassifier(loss_function= \"Logloss\", eval_metric=\"Logloss\",\n",
        "                                    learning_rate=0.143852,\n",
        "                                    iterations=300,\n",
        "                                    l2_leaf_reg=15,\n",
        "                                    max_depth = 4,\n",
        "                                    use_best_model=True,\n",
        "                                    custom_loss=['Accuracy', 'AUC', 'Logloss'])\n",
        "\n",
        "model_2022 = model_2022.fit(train_pool_cat, plot=True,eval_set=test_pool_cat, verbose=False)\n",
        "proba = model_2022.predict_proba(Xtest)\n",
        "print(metrics.roc_auc_score(ytest,proba[:,1]))"
      ]
    },
    {
      "cell_type": "code",
      "execution_count": null,
      "metadata": {},
      "outputs": [],
      "source": []
    },
    {
      "cell_type": "code",
      "execution_count": null,
      "metadata": {},
      "outputs": [],
      "source": []
    },
    {
      "cell_type": "code",
      "execution_count": null,
      "metadata": {},
      "outputs": [],
      "source": []
    }
  ],
  "metadata": {
    "kernelspec": {
      "display_name": "eurybia202308",
      "language": "python",
      "name": "eurybia202308"
    },
    "language_info": {
      "codemirror_mode": {
        "name": "ipython",
        "version": 3
      },
      "file_extension": ".py",
      "mimetype": "text/x-python",
      "name": "python",
      "nbconvert_exporter": "python",
      "pygments_lexer": "ipython3",
      "version": "3.9.17"
    },
    "toc": {
      "base_numbering": 1,
      "nav_menu": {},
      "number_sections": true,
      "sideBar": true,
      "skip_h1_title": false,
      "title_cell": "Table of Contents",
      "title_sidebar": "Contents",
      "toc_cell": false,
      "toc_position": {
        "height": "calc(100% - 180px)",
        "left": "10px",
        "top": "150px",
        "width": "336px"
      },
      "toc_section_display": true,
      "toc_window_display": true
    },
    "vscode": {
      "interpreter": {
        "hash": "36c4204cc0170e083c18487e195263df35fcafba9d65a5415ab6b0958d51e154"
      }
    }
  },
  "nbformat": 4,
  "nbformat_minor": 5
}
